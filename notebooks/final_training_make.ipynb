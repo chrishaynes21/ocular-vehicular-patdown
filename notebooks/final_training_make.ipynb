{
  "nbformat": 4,
  "nbformat_minor": 0,
  "metadata": {
    "colab": {
      "name": "final_training_make.ipynb",
      "version": "0.3.2",
      "provenance": []
    },
    "kernelspec": {
      "name": "python3",
      "display_name": "Python 3"
    },
    "accelerator": "GPU"
  },
  "cells": [
    {
      "cell_type": "code",
      "metadata": {
        "id": "Bt-MlTzrpbBS",
        "colab_type": "code",
        "colab": {}
      },
      "source": [
        "import numpy as np\n",
        "import gzip\n",
        "import pickle as pkl\n",
        "import matplotlib.pyplot as plt\n",
        "import datetime\n",
        "import sys\n",
        "import torch"
      ],
      "execution_count": 0,
      "outputs": []
    },
    {
      "cell_type": "code",
      "metadata": {
        "id": "wt7D9Rs0pz5m",
        "colab_type": "code",
        "outputId": "0d3924e8-d5b9-44be-b344-c6fab4a93271",
        "colab": {
          "base_uri": "https://localhost:8080/",
          "height": 34
        }
      },
      "source": [
        "torch.__version__"
      ],
      "execution_count": 0,
      "outputs": [
        {
          "output_type": "execute_result",
          "data": {
            "text/plain": [
              "'1.1.0'"
            ]
          },
          "metadata": {
            "tags": []
          },
          "execution_count": 2
        }
      ]
    },
    {
      "cell_type": "code",
      "metadata": {
        "id": "daQjEj3qp_vs",
        "colab_type": "code",
        "outputId": "c8f8ee15-35de-40c1-a957-5a0a358b578c",
        "colab": {
          "base_uri": "https://localhost:8080/",
          "height": 316
        }
      },
      "source": [
        "!nvidia-smi"
      ],
      "execution_count": 0,
      "outputs": [
        {
          "output_type": "stream",
          "text": [
            "Tue May 14 00:02:47 2019       \n",
            "+-----------------------------------------------------------------------------+\n",
            "| NVIDIA-SMI 418.56       Driver Version: 410.79       CUDA Version: 10.0     |\n",
            "|-------------------------------+----------------------+----------------------+\n",
            "| GPU  Name        Persistence-M| Bus-Id        Disp.A | Volatile Uncorr. ECC |\n",
            "| Fan  Temp  Perf  Pwr:Usage/Cap|         Memory-Usage | GPU-Util  Compute M. |\n",
            "|===============================+======================+======================|\n",
            "|   0  Tesla T4            Off  | 00000000:00:04.0 Off |                    0 |\n",
            "| N/A   70C    P0    30W /  70W |      0MiB / 15079MiB |      0%      Default |\n",
            "+-------------------------------+----------------------+----------------------+\n",
            "                                                                               \n",
            "+-----------------------------------------------------------------------------+\n",
            "| Processes:                                                       GPU Memory |\n",
            "|  GPU       PID   Type   Process name                             Usage      |\n",
            "|=============================================================================|\n",
            "|  No running processes found                                                 |\n",
            "+-----------------------------------------------------------------------------+\n"
          ],
          "name": "stdout"
        }
      ]
    },
    {
      "cell_type": "markdown",
      "metadata": {
        "id": "7PjNkRy6qOSa",
        "colab_type": "text"
      },
      "source": [
        "Thats a good gpu, with no pesky graphics taking up storage either"
      ]
    },
    {
      "cell_type": "code",
      "metadata": {
        "id": "rxE3iRhOqF_5",
        "colab_type": "code",
        "outputId": "a6cfd993-0d8a-466d-a081-7b5794ab612f",
        "colab": {
          "base_uri": "https://localhost:8080/",
          "height": 34
        }
      },
      "source": [
        "from google.colab import drive\n",
        "drive.mount('/gdrive', force_remount=True)"
      ],
      "execution_count": 0,
      "outputs": [
        {
          "output_type": "stream",
          "text": [
            "Mounted at /gdrive\n"
          ],
          "name": "stdout"
        }
      ]
    },
    {
      "cell_type": "code",
      "metadata": {
        "id": "mSbSpR4vqV9L",
        "colab_type": "code",
        "outputId": "7eefb9ed-602f-47b7-b2c0-fc596cb24272",
        "colab": {
          "base_uri": "https://localhost:8080/",
          "height": 34
        }
      },
      "source": [
        "%cd /gdrive/My\\ Drive/cs445/"
      ],
      "execution_count": 0,
      "outputs": [
        {
          "output_type": "stream",
          "text": [
            "/gdrive/My Drive/cs445\n"
          ],
          "name": "stdout"
        }
      ]
    },
    {
      "cell_type": "code",
      "metadata": {
        "id": "iPl46aMNrqfD",
        "colab_type": "code",
        "colab": {}
      },
      "source": [
        "import neuralnetworks_pytorch as nn"
      ],
      "execution_count": 0,
      "outputs": []
    },
    {
      "cell_type": "code",
      "metadata": {
        "id": "cpLUT8hIqgK2",
        "colab_type": "code",
        "outputId": "0422365c-39a8-4aab-ee22-a8a92c55b720",
        "colab": {
          "base_uri": "https://localhost:8080/",
          "height": 52
        }
      },
      "source": [
        "ls"
      ],
      "execution_count": 0,
      "outputs": [
        {
          "output_type": "stream",
          "text": [
            "final_training_decade.ipynb  make_nnet                  \u001b[0m\u001b[01;34mpickles\u001b[0m/\n",
            "final_training_make.ipynb    neuralnetworks_pytorch.py  \u001b[01;34m__pycache__\u001b[0m/\n"
          ],
          "name": "stdout"
        }
      ]
    },
    {
      "cell_type": "code",
      "metadata": {
        "id": "mg6JcnOAqtVB",
        "colab_type": "code",
        "colab": {}
      },
      "source": [
        "#Xbatch1 = pkl.load(open(\"./pickles/training_batches/batch0.pkl\", \"rb\"))\n",
        "#Tbatch1 = pkl.load(open(\"./pickles/training_batches/batch0_targets.pkl\", \"rb\"))\n",
        "#Xbatch2 = pkl.load(open(\"./pickles/training_batches/batch1.pkl\", \"rb\"))\n",
        "#Tbatch2 = pkl.load(open(\"./pickles/training_batches/batch1_targets.pkl\", \"rb\"))\n",
        "#Xbatch3 = pkl.load(open(\"./pickles/training_batches/batch2.pkl\", \"rb\"))\n",
        "#Tbatch3 = pkl.load(open(\"./pickles/training_batches/batch2_targets.pkl\", \"rb\"))\n",
        "#Xbatch1_test = pkl.load(open(\"./pickles/test_batches/batch0.pkl\", \"rb\"))\n",
        "#Tbatch1_test = pkl.load(open(\"./pickles/test_batches/batch0_targets.pkl\", \"rb\"))"
      ],
      "execution_count": 0,
      "outputs": []
    },
    {
      "cell_type": "code",
      "metadata": {
        "id": "IDY37UPL3D7F",
        "colab_type": "code",
        "colab": {}
      },
      "source": [
        "Xbatch = pkl.load(open(\"./pickles/train_batches3-5/batch0.pkl\", \"rb\"))\n",
        "Tbatch = pkl.load(open(\"./pickles/train_batches3-5/batch0_targets.pkl\", \"rb\"))"
      ],
      "execution_count": 0,
      "outputs": []
    },
    {
      "cell_type": "code",
      "metadata": {
        "id": "_LzNQIWATCwH",
        "colab_type": "code",
        "colab": {}
      },
      "source": [
        "Xbatch_test = pkl.load(open(\"./pickles/test_batches3-5/batch0.pkl\", \"rb\"))\n",
        "Tbatch_test = pkl.load(open(\"./pickles/test_batches3-5/batch0_targets.pkl\", \"rb\")) "
      ],
      "execution_count": 0,
      "outputs": []
    },
    {
      "cell_type": "code",
      "metadata": {
        "id": "5CsoAkXj4J8E",
        "colab_type": "code",
        "outputId": "e12e80f9-5086-4c43-d782-49f80e21c6f6",
        "colab": {
          "base_uri": "https://localhost:8080/",
          "height": 34
        }
      },
      "source": [
        "Xbatch.shape, Xbatch_test.shape"
      ],
      "execution_count": 0,
      "outputs": [
        {
          "output_type": "execute_result",
          "data": {
            "text/plain": [
              "((1000, 165, 330, 3), (1000, 165, 330, 3))"
            ]
          },
          "metadata": {
            "tags": []
          },
          "execution_count": 11
        }
      ]
    },
    {
      "cell_type": "code",
      "metadata": {
        "id": "oQhnlHM6rMKi",
        "colab_type": "code",
        "outputId": "e4ae6ae8-3165-4d8d-f175-022a65a0c8ad",
        "colab": {
          "base_uri": "https://localhost:8080/",
          "height": 34
        }
      },
      "source": [
        "Xbatch.nbytes #118 MB, used to be 450 MB a batch before downsampling"
      ],
      "execution_count": 0,
      "outputs": [
        {
          "output_type": "execute_result",
          "data": {
            "text/plain": [
              "163350000"
            ]
          },
          "metadata": {
            "tags": []
          },
          "execution_count": 12
        }
      ]
    },
    {
      "cell_type": "code",
      "metadata": {
        "id": "jNTh0LPVrPkM",
        "colab_type": "code",
        "outputId": "ecbbda2a-9ac3-431f-d751-b4c1bfe1c111",
        "colab": {
          "base_uri": "https://localhost:8080/",
          "height": 263
        }
      },
      "source": [
        "makes = np.unique(Tbatch[:, 0])\n",
        "styles = np.unique(Tbatch[:,1])\n",
        "years = np.unique(Tbatch[:,2])\n",
        "years, makes, styles"
      ],
      "execution_count": 0,
      "outputs": [
        {
          "output_type": "execute_result",
          "data": {
            "text/plain": [
              "(array(['1991', '1993', '1994', '1997', '1998', '1999', '2000', '2001',\n",
              "        '2002', '2006', '2007', '2008', '2009', '2010', '2011', '2012'],\n",
              "       dtype='<U54'),\n",
              " array(['AM', 'Acura', 'Aston', 'Audi', 'BMW', 'Bentley', 'Bugatti',\n",
              "        'Buick', 'Cadillac', 'Chevrolet', 'Chrysler', 'Daewoo', 'Dodge',\n",
              "        'Eagle', 'FIAT', 'Ferrari', 'Fisker', 'Ford', 'GMC', 'Geo',\n",
              "        'HUMMER', 'Honda', 'Hyundai', 'Infiniti', 'Isuzu', 'Jaguar',\n",
              "        'Jeep', 'Lamborghini', 'Land', 'Lincoln', 'MINI', 'Maybach',\n",
              "        'Mazda', 'McLaren', 'Mercedes-Benz', 'Mitsubishi', 'Nissan',\n",
              "        'Plymouth', 'Porsche', 'Ram', 'Rolls-Royce', 'Scion', 'Spyker',\n",
              "        'Suzuki', 'Tesla', 'Toyota', 'Volkswagen', 'Volvo', 'smart'],\n",
              "       dtype='<U54'),\n",
              " array(['Convertible', 'Coupe', 'Hatchback', 'Minivan', 'SUV', 'Sedan',\n",
              "        'Truck', 'Van', 'Wagon'], dtype='<U54'))"
            ]
          },
          "metadata": {
            "tags": []
          },
          "execution_count": 13
        }
      ]
    },
    {
      "cell_type": "code",
      "metadata": {
        "id": "QUrjvboDNE8s",
        "colab_type": "code",
        "colab": {}
      },
      "source": [
        "def makeXandT(Xbatch, Xbatch_test, Tbatch, Tbatch_test, makes):\n",
        "  for target in Tbatch:\n",
        "    target[0] = np.where(makes == target[0])[0][0]\n",
        "    \n",
        "  for target in Tbatch_test:\n",
        "    target[0] = np.where(makes == target[0])[0][0]\n",
        "\n",
        "  # Change to the channels first format, which is what is expected by pytorch  \n",
        "  Xbatch = np.rollaxis(Xbatch, 3, 1)\n",
        "  Xbatch_test = np.rollaxis(Xbatch_test, 3, 1)\n",
        "  # Make target classes for vehicle make\n",
        "  Ttrain = Tbatch[:, 0]\n",
        "  Ttest = Tbatch_test[:, 0]\n",
        "  \n",
        "  return Xbatch, Xbatch_test, Ttrain, Ttest"
      ],
      "execution_count": 0,
      "outputs": []
    },
    {
      "cell_type": "code",
      "metadata": {
        "id": "SYhwqo-mrzRr",
        "colab_type": "code",
        "colab": {}
      },
      "source": [
        "def percent_correct(actual, predicted):\n",
        "    return 100 * np.mean(actual == predicted)"
      ],
      "execution_count": 0,
      "outputs": []
    },
    {
      "cell_type": "code",
      "metadata": {
        "id": "9wTnrLKFrV4b",
        "colab_type": "code",
        "colab": {}
      },
      "source": [
        "n_outputs = len(makes)"
      ],
      "execution_count": 0,
      "outputs": []
    },
    {
      "cell_type": "code",
      "metadata": {
        "id": "_ClDQ-qqrcYM",
        "colab_type": "code",
        "colab": {}
      },
      "source": [
        "input_size_in_pixels = 3"
      ],
      "execution_count": 0,
      "outputs": []
    },
    {
      "cell_type": "markdown",
      "metadata": {
        "id": "xxfn7M3MUO5P",
        "colab_type": "text"
      },
      "source": [
        "Image is 55 by 110. For convolution size, we can start with 7x7, then 5x5 down to 3x3"
      ]
    },
    {
      "cell_type": "code",
      "metadata": {
        "id": "KFtUpDbsreIp",
        "colab_type": "code",
        "colab": {}
      },
      "source": [
        "n_hiddens_by_layer_1 = [25, 50, 75, 50, 25]    \n",
        "n_hiddens_by_layer_2 = [30, 60, 75, 60, 30]    \n",
        "n_hiddens_by_layer_3 = [10, 10, 10, 10, 100]   \n",
        "n_hiddens_by_layer_4 = [10, 20, 25, 25, 100]   \n",
        "n_hiddens_by_layer_5 = [10, 20, 25, 30, 100]   \n",
        "n_hiddens_by_layer_6 = [20, 35, 50, 60, 200] \n",
        "n_hiddens_by_layer_7 = [50, 65, 80, 100, 100]  \n",
        "\n",
        "batch_size = 25\n",
        "learning_rate = 0.0001\n",
        "n_iterations = 5\n",
        "n_conv_layers = 4\n",
        "\n",
        "window_1 = [27, 19, 9, 9]\n",
        "window_2 = [21, 11, 5, 5]\n",
        "window_3 = [27, 19, 13, 7]\n",
        "window_4 = [41, 29, 15, 15]\n",
        "\n",
        "stride = [2, 2, 2, 2]\n",
        "\n",
        "relu = True\n",
        "gpu = True"
      ],
      "execution_count": 0,
      "outputs": []
    },
    {
      "cell_type": "code",
      "metadata": {
        "id": "Pgd6_y9zO69C",
        "colab_type": "code",
        "colab": {}
      },
      "source": [
        "Xtrain, Xtest, Ttrain, Ttest = makeXandT(Xbatch, Xbatch_test, Tbatch, Tbatch_test, makes)"
      ],
      "execution_count": 0,
      "outputs": []
    },
    {
      "cell_type": "code",
      "metadata": {
        "id": "gFXsxOpprfW8",
        "colab_type": "code",
        "colab": {}
      },
      "source": [
        "input_height = Xtrain.shape[2]\n",
        "input_width = Xtrain.shape[3]"
      ],
      "execution_count": 0,
      "outputs": []
    },
    {
      "cell_type": "code",
      "metadata": {
        "id": "xav3ptl1rhmz",
        "colab_type": "code",
        "outputId": "8ef85dc2-06c2-44c5-b1ad-43b2701d9051",
        "colab": {
          "base_uri": "https://localhost:8080/",
          "height": 34
        }
      },
      "source": [
        "nnet = nn.NeuralNetworkClassifier_Pytorch(input_size_in_pixels, \n",
        "                                          n_hiddens_by_layer_7, \n",
        "                                          n_outputs, \n",
        "                                          relu,gpu, \n",
        "                                          n_conv_layers, window_1, stride, input_height, input_width)"
      ],
      "execution_count": 0,
      "outputs": [
        {
          "output_type": "stream",
          "text": [
            "NeuralNetworkClassifier_Pytorch created on cuda\n"
          ],
          "name": "stdout"
        }
      ]
    },
    {
      "cell_type": "code",
      "metadata": {
        "id": "9_snvckGriOo",
        "colab_type": "code",
        "outputId": "45e210b4-ee84-4edd-ccc4-9a86be1b3f89",
        "colab": {
          "base_uri": "https://localhost:8080/",
          "height": 105
        }
      },
      "source": [
        "nnet.train(Xtrain, Ttrain.astype(np.uint8), Xtest, Ttest.astype(np.uint8), n_iterations, batch_size, learning_rate)"
      ],
      "execution_count": 0,
      "outputs": [
        {
          "output_type": "stream",
          "text": [
            "Iteration 1, cost = 3.6748, acc = 11.50\n",
            "Iteration 2, cost = 3.5174, acc = 11.80\n",
            "Iteration 3, cost = 3.4863, acc = 11.40\n",
            "Iteration 4, cost = 3.3923, acc = 10.70\n",
            "Iteration 5, cost = 3.3107, acc = 10.40\n"
          ],
          "name": "stdout"
        }
      ]
    },
    {
      "cell_type": "code",
      "metadata": {
        "colab_type": "code",
        "id": "trxIZTH6QGl0",
        "colab": {}
      },
      "source": [
        "Xbatch = pkl.load(open(\"./pickles/train_batches3-5/batch1.pkl\", \"rb\"))\n",
        "Tbatch = pkl.load(open(\"./pickles/train_batches3-5/batch1_targets.pkl\", \"rb\"))\n",
        "Xbatch_test = pkl.load(open(\"./pickles/test_batches3-5/batch1.pkl\", \"rb\"))\n",
        "Tbatch_test = pkl.load(open(\"./pickles/test_batches3-5/batch1_targets.pkl\", \"rb\")) "
      ],
      "execution_count": 0,
      "outputs": []
    },
    {
      "cell_type": "code",
      "metadata": {
        "colab_type": "code",
        "id": "tlnfY-81Qczi",
        "outputId": "351ef35e-ec46-469f-b6a0-aff2a79aabb0",
        "colab": {
          "base_uri": "https://localhost:8080/",
          "height": 105
        }
      },
      "source": [
        "Xtrain, Xtest, Ttrain, Ttest = makeXandT(Xbatch, Xbatch_test, Tbatch, Tbatch_test, makes)\n",
        "input_height = Xtrain.shape[2]\n",
        "input_width = Xtrain.shape[3]\n",
        "nnet.train(Xtrain, Ttrain.astype(np.uint8), Xtest, Ttest.astype(np.uint8), n_iterations, batch_size, learning_rate)"
      ],
      "execution_count": 0,
      "outputs": [
        {
          "output_type": "stream",
          "text": [
            "Iteration 1, cost = 3.5329, acc = 10.17\n",
            "Iteration 2, cost = 3.3383, acc = 9.22\n",
            "Iteration 3, cost = 3.0742, acc = 11.76\n",
            "Iteration 4, cost = 2.6506, acc = 8.90\n",
            "Iteration 5, cost = 2.2449, acc = 10.02\n"
          ],
          "name": "stdout"
        }
      ]
    },
    {
      "cell_type": "code",
      "metadata": {
        "colab_type": "code",
        "id": "OJIRWYK9Y8SD",
        "colab": {}
      },
      "source": [
        "Xbatch = pkl.load(open(\"./pickles/train_batches3-5/batch2.pkl\", \"rb\"))\n",
        "Tbatch = pkl.load(open(\"./pickles/train_batches3-5/batch2_targets.pkl\", \"rb\"))\n",
        "Xbatch_test = pkl.load(open(\"./pickles/test_batches3-5/batch0.pkl\", \"rb\"))\n",
        "Tbatch_test = pkl.load(open(\"./pickles/test_batches3-5/batch0_targets.pkl\", \"rb\")) "
      ],
      "execution_count": 0,
      "outputs": []
    },
    {
      "cell_type": "code",
      "metadata": {
        "colab_type": "code",
        "outputId": "71f13b15-b3cc-4736-9a98-c16c9db89872",
        "id": "HobCCG_AY8SO",
        "colab": {
          "base_uri": "https://localhost:8080/",
          "height": 105
        }
      },
      "source": [
        "Xtrain, Xtest, Ttrain, Ttest = makeXandT(Xbatch, Xbatch_test, Tbatch, Tbatch_test, makes)\n",
        "input_height = Xtrain.shape[2]\n",
        "input_width = Xtrain.shape[3]\n",
        "nnet.train(Xtrain, Ttrain.astype(np.uint8), Xtest, Ttest.astype(np.uint8), n_iterations, batch_size, learning_rate)"
      ],
      "execution_count": 0,
      "outputs": [
        {
          "output_type": "stream",
          "text": [
            "Iteration 1, cost = 3.6499, acc = 11.70\n",
            "Iteration 2, cost = 3.3578, acc = 10.60\n",
            "Iteration 3, cost = 3.0086, acc = 9.50\n",
            "Iteration 4, cost = 2.5699, acc = 7.70\n",
            "Iteration 5, cost = 2.2263, acc = 7.20\n"
          ],
          "name": "stdout"
        }
      ]
    },
    {
      "cell_type": "code",
      "metadata": {
        "colab_type": "code",
        "id": "Kkm1PtzvY-Hn",
        "colab": {}
      },
      "source": [
        "Xbatch = pkl.load(open(\"./pickles/train_batches3-5/batch3.pkl\", \"rb\"))\n",
        "Tbatch = pkl.load(open(\"./pickles/train_batches3-5/batch3_targets.pkl\", \"rb\"))\n",
        "Xbatch_test = pkl.load(open(\"./pickles/test_batches3-5/batch1.pkl\", \"rb\"))\n",
        "Tbatch_test = pkl.load(open(\"./pickles/test_batches3-5/batch1_targets.pkl\", \"rb\")) "
      ],
      "execution_count": 0,
      "outputs": []
    },
    {
      "cell_type": "code",
      "metadata": {
        "colab_type": "code",
        "outputId": "6579761f-ff86-495e-f44d-02dc87832804",
        "id": "PW4fkp38Y-Hu",
        "colab": {
          "base_uri": "https://localhost:8080/",
          "height": 105
        }
      },
      "source": [
        "Xtrain, Xtest, Ttrain, Ttest = makeXandT(Xbatch, Xbatch_test, Tbatch, Tbatch_test, makes)\n",
        "input_height = Xtrain.shape[2]\n",
        "input_width = Xtrain.shape[3]\n",
        "nnet.train(Xtrain, Ttrain.astype(np.uint8), Xtest, Ttest.astype(np.uint8), n_iterations, batch_size, learning_rate)"
      ],
      "execution_count": 0,
      "outputs": [
        {
          "output_type": "stream",
          "text": [
            "Iteration 1, cost = 3.6247, acc = 10.49\n",
            "Iteration 2, cost = 3.3410, acc = 9.86\n",
            "Iteration 3, cost = 2.9952, acc = 10.02\n",
            "Iteration 4, cost = 2.5489, acc = 7.31\n",
            "Iteration 5, cost = 1.9675, acc = 8.27\n"
          ],
          "name": "stdout"
        }
      ]
    },
    {
      "cell_type": "code",
      "metadata": {
        "colab_type": "code",
        "id": "mwMOD1y-Y_E3",
        "colab": {}
      },
      "source": [
        "Xbatch = pkl.load(open(\"./pickles/train_batches3-5/batch4.pkl\", \"rb\"))\n",
        "Tbatch = pkl.load(open(\"./pickles/train_batches3-5/batch4_targets.pkl\", \"rb\"))\n",
        "Xbatch_test = pkl.load(open(\"./pickles/test_batches3-5/batch0.pkl\", \"rb\"))\n",
        "Tbatch_test = pkl.load(open(\"./pickles/test_batches3-5/batch0_targets.pkl\", \"rb\")) "
      ],
      "execution_count": 0,
      "outputs": []
    },
    {
      "cell_type": "code",
      "metadata": {
        "colab_type": "code",
        "outputId": "1c4f0f49-83c1-4a96-e3dd-02db83e47840",
        "id": "3h8ZyF9dY_E6",
        "colab": {
          "base_uri": "https://localhost:8080/",
          "height": 105
        }
      },
      "source": [
        "Xtrain, Xtest, Ttrain, Ttest = makeXandT(Xbatch, Xbatch_test, Tbatch, Tbatch_test, makes)\n",
        "input_height = Xtrain.shape[2]\n",
        "input_width = Xtrain.shape[3]\n",
        "nnet.train(Xtrain, Ttrain.astype(np.uint8), Xtest, Ttest.astype(np.uint8), n_iterations, batch_size, learning_rate)"
      ],
      "execution_count": 0,
      "outputs": [
        {
          "output_type": "stream",
          "text": [
            "Iteration 1, cost = 3.6586, acc = 11.50\n",
            "Iteration 2, cost = 3.2326, acc = 8.40\n",
            "Iteration 3, cost = 2.8573, acc = 7.30\n",
            "Iteration 4, cost = 2.3284, acc = 8.70\n",
            "Iteration 5, cost = 1.9550, acc = 8.90\n"
          ],
          "name": "stdout"
        }
      ]
    },
    {
      "cell_type": "code",
      "metadata": {
        "colab_type": "code",
        "id": "RAxAoovMZBZQ",
        "colab": {}
      },
      "source": [
        "Xbatch = pkl.load(open(\"./pickles/train_batches3-5/batch5.pkl\", \"rb\"))\n",
        "Tbatch = pkl.load(open(\"./pickles/train_batches3-5/batch5_targets.pkl\", \"rb\"))\n",
        "Xbatch_test = pkl.load(open(\"./pickles/test_batches3-5/batch1.pkl\", \"rb\"))\n",
        "Tbatch_test = pkl.load(open(\"./pickles/test_batches3-5/batch1_targets.pkl\", \"rb\")) "
      ],
      "execution_count": 0,
      "outputs": []
    },
    {
      "cell_type": "code",
      "metadata": {
        "colab_type": "code",
        "outputId": "7301ab33-2cc8-4b6f-e173-928e8c1ecf32",
        "id": "ytR2iGeQZBZa",
        "colab": {
          "base_uri": "https://localhost:8080/",
          "height": 105
        }
      },
      "source": [
        "Xtrain, Xtest, Ttrain, Ttest = makeXandT(Xbatch, Xbatch_test, Tbatch, Tbatch_test, makes)\n",
        "input_height = Xtrain.shape[2]\n",
        "input_width = Xtrain.shape[3]\n",
        "nnet.train(Xtrain, Ttrain.astype(np.uint8), Xtest, Ttest.astype(np.uint8), n_iterations, batch_size, learning_rate)"
      ],
      "execution_count": 0,
      "outputs": [
        {
          "output_type": "stream",
          "text": [
            "Iteration 1, cost = 3.7530, acc = 9.54\n",
            "Iteration 2, cost = 3.2194, acc = 9.54\n",
            "Iteration 3, cost = 2.6927, acc = 7.47\n",
            "Iteration 4, cost = 2.4545, acc = 7.31\n",
            "Iteration 5, cost = 1.7842, acc = 7.31\n"
          ],
          "name": "stdout"
        }
      ]
    },
    {
      "cell_type": "code",
      "metadata": {
        "colab_type": "code",
        "id": "EFkwQFjNZR8s",
        "colab": {}
      },
      "source": [
        "Xbatch = pkl.load(open(\"./pickles/train_batches3-5/batch6.pkl\", \"rb\"))\n",
        "Tbatch = pkl.load(open(\"./pickles/train_batches3-5/batch6_targets.pkl\", \"rb\"))\n",
        "Xbatch_test = pkl.load(open(\"./pickles/test_batches3-5/batch0.pkl\", \"rb\"))\n",
        "Tbatch_test = pkl.load(open(\"./pickles/test_batches3-5/batch0_targets.pkl\", \"rb\")) "
      ],
      "execution_count": 0,
      "outputs": []
    },
    {
      "cell_type": "code",
      "metadata": {
        "colab_type": "code",
        "outputId": "695b739a-7dd4-47d5-d556-4fb6232ef193",
        "id": "5HA8c9DDZR84",
        "colab": {
          "base_uri": "https://localhost:8080/",
          "height": 105
        }
      },
      "source": [
        "Xtrain, Xtest, Ttrain, Ttest = makeXandT(Xbatch, Xbatch_test, Tbatch, Tbatch_test, makes)\n",
        "input_height = Xtrain.shape[2]\n",
        "input_width = Xtrain.shape[3]\n",
        "nnet.train(Xtrain, Ttrain.astype(np.uint8), Xtest, Ttest.astype(np.uint8), n_iterations, batch_size, learning_rate)"
      ],
      "execution_count": 0,
      "outputs": [
        {
          "output_type": "stream",
          "text": [
            "Iteration 1, cost = 3.8862, acc = 7.60\n",
            "Iteration 2, cost = 3.2835, acc = 9.20\n",
            "Iteration 3, cost = 2.8579, acc = 8.70\n",
            "Iteration 4, cost = 2.2563, acc = 8.90\n",
            "Iteration 5, cost = 1.5949, acc = 9.70\n"
          ],
          "name": "stdout"
        }
      ]
    },
    {
      "cell_type": "code",
      "metadata": {
        "id": "dPapclszBLO_",
        "colab_type": "code",
        "outputId": "0f930cc0-d960-4753-ea54-369588e0c9b2",
        "colab": {
          "base_uri": "https://localhost:8080/",
          "height": 34
        }
      },
      "source": [
        "classes, _, _ = nnet.use(Xtest)\n",
        "percent = percent_correct(Ttest.astype(np.uint8), classes)\n",
        "percent\n"
      ],
      "execution_count": 0,
      "outputs": [
        {
          "output_type": "execute_result",
          "data": {
            "text/plain": [
              "9.700000000000001"
            ]
          },
          "metadata": {
            "tags": []
          },
          "execution_count": 35
        }
      ]
    },
    {
      "cell_type": "code",
      "metadata": {
        "id": "5bBM4UImJs_r",
        "colab_type": "code",
        "colab": {}
      },
      "source": [
        "cpu_nnet = nnet.to(torch.device('cpu'))\n",
        "cpu_nnet.device = 'cpu'"
      ],
      "execution_count": 0,
      "outputs": []
    },
    {
      "cell_type": "code",
      "metadata": {
        "id": "uavcioVoCU8o",
        "colab_type": "code",
        "colab": {}
      },
      "source": [
        "pkl.dump(cpu_nnet, open(\"make_nnet\", \"wb\"))"
      ],
      "execution_count": 0,
      "outputs": []
    },
    {
      "cell_type": "code",
      "metadata": {
        "id": "oiv5UcEH0gdT",
        "colab_type": "code",
        "colab": {}
      },
      "source": [
        ""
      ],
      "execution_count": 0,
      "outputs": []
    }
  ]
}
{
  "nbformat": 4,
  "nbformat_minor": 0,
  "metadata": {
    "colab": {
      "name": "final_training_body_style.ipynb",
      "version": "0.3.2",
      "provenance": [],
      "collapsed_sections": []
    },
    "kernelspec": {
      "name": "python3",
      "display_name": "Python 3"
    },
    "accelerator": "GPU"
  },
  "cells": [
    {
      "cell_type": "markdown",
      "metadata": {
        "id": "wuwrToq_fB13",
        "colab_type": "text"
      },
      "source": [
        "Import the needed files."
      ]
    },
    {
      "cell_type": "code",
      "metadata": {
        "id": "Bt-MlTzrpbBS",
        "colab_type": "code",
        "outputId": "26e5fbe1-03ae-4a3b-a7ad-a828d24f6e40",
        "colab": {
          "base_uri": "https://localhost:8080/",
          "height": 700
        }
      },
      "source": [
        "import numpy as np\n",
        "import pickle as pkl\n",
        "import matplotlib.pyplot as plt\n",
        "import sys\n",
        "import torch\n",
        "!pip install tf-nightly-gpu-2.0-preview\n",
        "import tensorflow"
      ],
      "execution_count": 0,
      "outputs": [
        {
          "output_type": "stream",
          "text": [
            "Collecting tf-nightly-gpu-2.0-preview\n",
            "\u001b[?25l  Downloading https://files.pythonhosted.org/packages/4f/96/e675289855fedaf3d0e6e8e4e57583d80056410d3d5e31e02bd9617d367a/tf_nightly_gpu_2.0_preview-2.0.0.dev20190513-cp36-cp36m-manylinux1_x86_64.whl (346.7MB)\n",
            "\u001b[K     |████████████████████████████████| 346.7MB 53kB/s \n",
            "\u001b[?25hCollecting tb-nightly<1.15.0a0,>=1.14.0a0 (from tf-nightly-gpu-2.0-preview)\n",
            "\u001b[?25l  Downloading https://files.pythonhosted.org/packages/8c/6c/759f28c7b26ea155b9928cde0623fde7f8d7b09a31fb4a3962e92bcce3d8/tb_nightly-1.14.0a20190513-py3-none-any.whl (3.1MB)\n",
            "\u001b[K     |████████████████████████████████| 3.1MB 9.8MB/s \n",
            "\u001b[?25hRequirement already satisfied: keras-preprocessing>=1.0.5 in /usr/local/lib/python3.6/dist-packages (from tf-nightly-gpu-2.0-preview) (1.0.9)\n",
            "Collecting wrapt>=1.11.1 (from tf-nightly-gpu-2.0-preview)\n",
            "  Downloading https://files.pythonhosted.org/packages/67/b2/0f71ca90b0ade7fad27e3d20327c996c6252a2ffe88f50a95bba7434eda9/wrapt-1.11.1.tar.gz\n",
            "Collecting google-pasta>=0.1.6 (from tf-nightly-gpu-2.0-preview)\n",
            "\u001b[?25l  Downloading https://files.pythonhosted.org/packages/f9/68/a14620bfb042691f532dcde8576ff82ee82e4c003cdc0a3dbee5f289cee6/google_pasta-0.1.6-py3-none-any.whl (51kB)\n",
            "\u001b[K     |████████████████████████████████| 61kB 24.7MB/s \n",
            "\u001b[?25hRequirement already satisfied: absl-py>=0.7.0 in /usr/local/lib/python3.6/dist-packages (from tf-nightly-gpu-2.0-preview) (0.7.1)\n",
            "Requirement already satisfied: numpy<2.0,>=1.14.5 in /usr/local/lib/python3.6/dist-packages (from tf-nightly-gpu-2.0-preview) (1.16.3)\n",
            "Requirement already satisfied: grpcio>=1.8.6 in /usr/local/lib/python3.6/dist-packages (from tf-nightly-gpu-2.0-preview) (1.15.0)\n",
            "Requirement already satisfied: termcolor>=1.1.0 in /usr/local/lib/python3.6/dist-packages (from tf-nightly-gpu-2.0-preview) (1.1.0)\n",
            "Requirement already satisfied: astor>=0.6.0 in /usr/local/lib/python3.6/dist-packages (from tf-nightly-gpu-2.0-preview) (0.7.1)\n",
            "Requirement already satisfied: six>=1.10.0 in /usr/local/lib/python3.6/dist-packages (from tf-nightly-gpu-2.0-preview) (1.12.0)\n",
            "Requirement already satisfied: wheel>=0.26 in /usr/local/lib/python3.6/dist-packages (from tf-nightly-gpu-2.0-preview) (0.33.2)\n",
            "Requirement already satisfied: keras-applications>=1.0.6 in /usr/local/lib/python3.6/dist-packages (from tf-nightly-gpu-2.0-preview) (1.0.7)\n",
            "Requirement already satisfied: gast>=0.2.0 in /usr/local/lib/python3.6/dist-packages (from tf-nightly-gpu-2.0-preview) (0.2.2)\n",
            "Requirement already satisfied: protobuf>=3.6.1 in /usr/local/lib/python3.6/dist-packages (from tf-nightly-gpu-2.0-preview) (3.7.1)\n",
            "Collecting tensorflow-estimator-2.0-preview (from tf-nightly-gpu-2.0-preview)\n",
            "\u001b[?25l  Downloading https://files.pythonhosted.org/packages/cd/d8/f113ae2411e6a0eb82d55f56a5b36229d0de3bac638526978955b0522000/tensorflow_estimator_2.0_preview-1.14.0.dev2019051300-py2.py3-none-any.whl (427kB)\n",
            "\u001b[K     |████████████████████████████████| 430kB 48.2MB/s \n",
            "\u001b[?25hRequirement already satisfied: werkzeug>=0.11.15 in /usr/local/lib/python3.6/dist-packages (from tb-nightly<1.15.0a0,>=1.14.0a0->tf-nightly-gpu-2.0-preview) (0.15.2)\n",
            "Requirement already satisfied: markdown>=2.6.8 in /usr/local/lib/python3.6/dist-packages (from tb-nightly<1.15.0a0,>=1.14.0a0->tf-nightly-gpu-2.0-preview) (3.1)\n",
            "Requirement already satisfied: h5py in /usr/local/lib/python3.6/dist-packages (from keras-applications>=1.0.6->tf-nightly-gpu-2.0-preview) (2.8.0)\n",
            "Requirement already satisfied: setuptools in /usr/local/lib/python3.6/dist-packages (from protobuf>=3.6.1->tf-nightly-gpu-2.0-preview) (41.0.1)\n",
            "Building wheels for collected packages: wrapt\n",
            "  Building wheel for wrapt (setup.py) ... \u001b[?25l\u001b[?25hdone\n",
            "  Stored in directory: /root/.cache/pip/wheels/89/67/41/63cbf0f6ac0a6156588b9587be4db5565f8c6d8ccef98202fc\n",
            "Successfully built wrapt\n",
            "\u001b[31mERROR: thinc 6.12.1 has requirement wrapt<1.11.0,>=1.10.0, but you'll have wrapt 1.11.1 which is incompatible.\u001b[0m\n",
            "Installing collected packages: tb-nightly, wrapt, google-pasta, tensorflow-estimator-2.0-preview, tf-nightly-gpu-2.0-preview\n",
            "  Found existing installation: wrapt 1.10.11\n",
            "    Uninstalling wrapt-1.10.11:\n",
            "      Successfully uninstalled wrapt-1.10.11\n",
            "Successfully installed google-pasta-0.1.6 tb-nightly-1.14.0a20190513 tensorflow-estimator-2.0-preview-1.14.0.dev2019051300 tf-nightly-gpu-2.0-preview-2.0.0.dev20190513 wrapt-1.11.1\n"
          ],
          "name": "stdout"
        }
      ]
    },
    {
      "cell_type": "code",
      "metadata": {
        "id": "4qpHriCOjSpv",
        "colab_type": "code",
        "colab": {}
      },
      "source": [
        ""
      ],
      "execution_count": 0,
      "outputs": []
    },
    {
      "cell_type": "code",
      "metadata": {
        "id": "wt7D9Rs0pz5m",
        "colab_type": "code",
        "outputId": "3876c95c-936e-4b36-be38-1d5b07fb50e7",
        "colab": {
          "base_uri": "https://localhost:8080/",
          "height": 34
        }
      },
      "source": [
        "torch.__version__"
      ],
      "execution_count": 0,
      "outputs": [
        {
          "output_type": "execute_result",
          "data": {
            "text/plain": [
              "'1.1.0'"
            ]
          },
          "metadata": {
            "tags": []
          },
          "execution_count": 3
        }
      ]
    },
    {
      "cell_type": "markdown",
      "metadata": {
        "id": "x6g67nX7fWn2",
        "colab_type": "text"
      },
      "source": [
        "Colab grants you access to a Nvidia tesla T4"
      ]
    },
    {
      "cell_type": "code",
      "metadata": {
        "id": "daQjEj3qp_vs",
        "colab_type": "code",
        "outputId": "043a57cc-1a99-4417-dc0b-2aac89c334f9",
        "colab": {
          "base_uri": "https://localhost:8080/",
          "height": 306
        }
      },
      "source": [
        "!nvidia-smi"
      ],
      "execution_count": 0,
      "outputs": [
        {
          "output_type": "stream",
          "text": [
            "Mon May 13 20:52:30 2019       \n",
            "+-----------------------------------------------------------------------------+\n",
            "| NVIDIA-SMI 418.56       Driver Version: 410.79       CUDA Version: 10.0     |\n",
            "|-------------------------------+----------------------+----------------------+\n",
            "| GPU  Name        Persistence-M| Bus-Id        Disp.A | Volatile Uncorr. ECC |\n",
            "| Fan  Temp  Perf  Pwr:Usage/Cap|         Memory-Usage | GPU-Util  Compute M. |\n",
            "|===============================+======================+======================|\n",
            "|   0  Tesla T4            Off  | 00000000:00:04.0 Off |                    0 |\n",
            "| N/A   42C    P8    15W /  70W |      0MiB / 15079MiB |      0%      Default |\n",
            "+-------------------------------+----------------------+----------------------+\n",
            "                                                                               \n",
            "+-----------------------------------------------------------------------------+\n",
            "| Processes:                                                       GPU Memory |\n",
            "|  GPU       PID   Type   Process name                             Usage      |\n",
            "|=============================================================================|\n",
            "|  No running processes found                                                 |\n",
            "+-----------------------------------------------------------------------------+\n"
          ],
          "name": "stdout"
        }
      ]
    },
    {
      "cell_type": "markdown",
      "metadata": {
        "id": "7PjNkRy6qOSa",
        "colab_type": "text"
      },
      "source": [
        "Thats a good gpu, with no pesky graphics taking up storage either"
      ]
    },
    {
      "cell_type": "code",
      "metadata": {
        "id": "rxE3iRhOqF_5",
        "colab_type": "code",
        "outputId": "06a3451d-e636-4e0d-a7e9-2080690d0579",
        "colab": {
          "base_uri": "https://localhost:8080/",
          "height": 122
        }
      },
      "source": [
        "from google.colab import drive\n",
        "drive.mount('/gdrive', force_remount=True)"
      ],
      "execution_count": 0,
      "outputs": [
        {
          "output_type": "stream",
          "text": [
            "Go to this URL in a browser: https://accounts.google.com/o/oauth2/auth?client_id=947318989803-6bn6qk8qdgf4n4g3pfee6491hc0brc4i.apps.googleusercontent.com&redirect_uri=urn%3Aietf%3Awg%3Aoauth%3A2.0%3Aoob&scope=email%20https%3A%2F%2Fwww.googleapis.com%2Fauth%2Fdocs.test%20https%3A%2F%2Fwww.googleapis.com%2Fauth%2Fdrive%20https%3A%2F%2Fwww.googleapis.com%2Fauth%2Fdrive.photos.readonly%20https%3A%2F%2Fwww.googleapis.com%2Fauth%2Fpeopleapi.readonly&response_type=code\n",
            "\n",
            "Enter your authorization code:\n",
            "··········\n",
            "Mounted at /gdrive\n"
          ],
          "name": "stdout"
        }
      ]
    },
    {
      "cell_type": "code",
      "metadata": {
        "id": "mSbSpR4vqV9L",
        "colab_type": "code",
        "outputId": "02f6ed13-2ee0-474c-c31d-1ea12e43f31c",
        "colab": {
          "base_uri": "https://localhost:8080/",
          "height": 34
        }
      },
      "source": [
        "%cd /gdrive/My\\ Drive/cs445/"
      ],
      "execution_count": 0,
      "outputs": [
        {
          "output_type": "stream",
          "text": [
            "/gdrive/My Drive/cs445\n"
          ],
          "name": "stdout"
        }
      ]
    },
    {
      "cell_type": "code",
      "metadata": {
        "id": "iPl46aMNrqfD",
        "colab_type": "code",
        "colab": {}
      },
      "source": [
        "import neuralnetworks_pytorch as nn"
      ],
      "execution_count": 0,
      "outputs": []
    },
    {
      "cell_type": "code",
      "metadata": {
        "id": "cpLUT8hIqgK2",
        "colab_type": "code",
        "outputId": "687c8cff-978f-4ed7-ab0b-ba0d18941939",
        "colab": {
          "base_uri": "https://localhost:8080/",
          "height": 85
        }
      },
      "source": [
        "ls"
      ],
      "execution_count": 0,
      "outputs": [
        {
          "output_type": "stream",
          "text": [
            "body_style.nnet                  IMG_20190512_180319__01.jpg  \u001b[0m\u001b[01;34m__pycache__\u001b[0m/\n",
            "\u001b[01;34mfinal\u001b[0m/                           neuralnetworks_pytorch.py    Writeup.gdoc\n",
            "final_training_body_style.ipynb  \u001b[01;34mocular-vehicular-patdown\u001b[0m/\n",
            "final_training_decade.ipynb      \u001b[01;34mpickles\u001b[0m/\n"
          ],
          "name": "stdout"
        }
      ]
    },
    {
      "cell_type": "code",
      "metadata": {
        "id": "mg6JcnOAqtVB",
        "colab_type": "code",
        "colab": {}
      },
      "source": [
        "#Xbatch1 = pkl.load(open(\"./pickles/training_batches/batch0.pkl\", \"rb\"))\n",
        "#Tbatch1 = pkl.load(open(\"./pickles/training_batches/batch0_targets.pkl\", \"rb\"))\n",
        "#Xbatch2 = pkl.load(open(\"./pickles/training_batches/batch1.pkl\", \"rb\"))\n",
        "#Tbatch2 = pkl.load(open(\"./pickles/training_batches/batch1_targets.pkl\", \"rb\"))\n",
        "#Xbatch3 = pkl.load(open(\"./pickles/training_batches/batch2.pkl\", \"rb\"))\n",
        "#Tbatch3 = pkl.load(open(\"./pickles/training_batches/batch2_targets.pkl\", \"rb\"))\n",
        "#Xbatch1_test = pkl.load(open(\"./pickles/test_batches/batch0.pkl\", \"rb\"))\n",
        "#Tbatch1_test = pkl.load(open(\"./pickles/test_batches/batch0_targets.pkl\", \"rb\"))"
      ],
      "execution_count": 0,
      "outputs": []
    },
    {
      "cell_type": "code",
      "metadata": {
        "id": "IDY37UPL3D7F",
        "colab_type": "code",
        "colab": {}
      },
      "source": [
        "Xbatch = pkl.load(open(\"./pickles/train_batches1-5/batch0.pkl\", \"rb\"))\n",
        "Tbatch = pkl.load(open(\"./pickles/train_batches1-5/batch0_targets.pkl\", \"rb\"))"
      ],
      "execution_count": 0,
      "outputs": []
    },
    {
      "cell_type": "code",
      "metadata": {
        "id": "_LzNQIWATCwH",
        "colab_type": "code",
        "colab": {}
      },
      "source": [
        "Xbatch_test = pkl.load(open(\"./pickles/test_batches1-5/batch0.pkl\", \"rb\"))\n",
        "Tbatch_test = pkl.load(open(\"./pickles/test_batches1-5/batch0_targets.pkl\", \"rb\")) "
      ],
      "execution_count": 0,
      "outputs": []
    },
    {
      "cell_type": "code",
      "metadata": {
        "id": "5CsoAkXj4J8E",
        "colab_type": "code",
        "outputId": "f9a124e9-2bec-4a62-a535-913fcea6f5b9",
        "colab": {
          "base_uri": "https://localhost:8080/",
          "height": 34
        }
      },
      "source": [
        "Xbatch.shape, Xbatch_test.shape"
      ],
      "execution_count": 0,
      "outputs": [
        {
          "output_type": "execute_result",
          "data": {
            "text/plain": [
              "((6515, 55, 110, 3), (1629, 55, 110, 3))"
            ]
          },
          "metadata": {
            "tags": []
          },
          "execution_count": 12
        }
      ]
    },
    {
      "cell_type": "code",
      "metadata": {
        "id": "oQhnlHM6rMKi",
        "colab_type": "code",
        "outputId": "3d5e25f0-c707-452b-fd1f-6edcc3f3c005",
        "colab": {
          "base_uri": "https://localhost:8080/",
          "height": 34
        }
      },
      "source": [
        "Xbatch.nbytes #118 MB, used to be 450 MB a batch before downsampling"
      ],
      "execution_count": 0,
      "outputs": [
        {
          "output_type": "execute_result",
          "data": {
            "text/plain": [
              "118247250"
            ]
          },
          "metadata": {
            "tags": []
          },
          "execution_count": 13
        }
      ]
    },
    {
      "cell_type": "code",
      "metadata": {
        "id": "jNTh0LPVrPkM",
        "colab_type": "code",
        "outputId": "3445a816-74d6-48a8-db41-5d90ac14b524",
        "colab": {
          "base_uri": "https://localhost:8080/",
          "height": 255
        }
      },
      "source": [
        "makes = np.unique(Tbatch[:, 0])\n",
        "style_names = np.unique(Tbatch[:,1])\n",
        "years = np.unique(Tbatch[:,2])\n",
        "years, makes, style_names"
      ],
      "execution_count": 0,
      "outputs": [
        {
          "output_type": "execute_result",
          "data": {
            "text/plain": [
              "(array(['1991', '1993', '1994', '1997', '1998', '1999', '2000', '2001',\n",
              "        '2002', '2006', '2007', '2008', '2009', '2010', '2011', '2012'],\n",
              "       dtype='<U54'),\n",
              " array(['AM', 'Acura', 'Aston', 'Audi', 'BMW', 'Bentley', 'Bugatti',\n",
              "        'Buick', 'Cadillac', 'Chevrolet', 'Chrysler', 'Daewoo', 'Dodge',\n",
              "        'Eagle', 'FIAT', 'Ferrari', 'Fisker', 'Ford', 'GMC', 'Geo',\n",
              "        'HUMMER', 'Honda', 'Hyundai', 'Infiniti', 'Isuzu', 'Jaguar',\n",
              "        'Jeep', 'Lamborghini', 'Land', 'Lincoln', 'MINI', 'Maybach',\n",
              "        'Mazda', 'McLaren', 'Mercedes-Benz', 'Mitsubishi', 'Nissan',\n",
              "        'Plymouth', 'Porsche', 'Ram', 'Rolls-Royce', 'Scion', 'Spyker',\n",
              "        'Suzuki', 'Tesla', 'Toyota', 'Volkswagen', 'Volvo', 'smart'],\n",
              "       dtype='<U54'),\n",
              " array(['Convertible', 'Coupe', 'Hatchback', 'Minivan', 'SUV', 'Sedan',\n",
              "        'Truck', 'Van', 'Wagon'], dtype='<U54'))"
            ]
          },
          "metadata": {
            "tags": []
          },
          "execution_count": 14
        }
      ]
    },
    {
      "cell_type": "markdown",
      "metadata": {
        "id": "EiwLJ1f6TypD",
        "colab_type": "text"
      },
      "source": [
        "Make target classes for decade of produciton"
      ]
    },
    {
      "cell_type": "code",
      "metadata": {
        "id": "1K7PXJKIrR_5",
        "colab_type": "code",
        "colab": {}
      },
      "source": [
        "for target in Tbatch:\n",
        "    if int(target[2]) < 2000:\n",
        "        target[2] = 0\n",
        "    elif 2000 <= int(target[2]) < 2010:\n",
        "        target[2] = 1\n",
        "    else:\n",
        "        target[2] = 2"
      ],
      "execution_count": 0,
      "outputs": []
    },
    {
      "cell_type": "code",
      "metadata": {
        "id": "UjmgvElsrTpW",
        "colab_type": "code",
        "colab": {}
      },
      "source": [
        "for target in Tbatch_test:\n",
        "    if int(target[2]) < 2000:\n",
        "        target[2] = 0\n",
        "    elif 2000 <= int(target[2]) < 2010:\n",
        "        target[2] = 1\n",
        "    else:\n",
        "        target[2] = 2"
      ],
      "execution_count": 0,
      "outputs": []
    },
    {
      "cell_type": "code",
      "metadata": {
        "id": "_iW_068kEFoA",
        "colab_type": "code",
        "colab": {}
      },
      "source": [
        "for target in Tbatch:\n",
        "    #print(target)\n",
        "    target[1] = np.where(style_names == target[1])[0][0]"
      ],
      "execution_count": 0,
      "outputs": []
    },
    {
      "cell_type": "code",
      "metadata": {
        "id": "y7LSzyEmHARS",
        "colab_type": "code",
        "colab": {}
      },
      "source": [
        "for target in Tbatch_test:\n",
        "    #print(target)\n",
        "    target[1] = np.where(style_names == target[1])[0][0]"
      ],
      "execution_count": 0,
      "outputs": []
    },
    {
      "cell_type": "markdown",
      "metadata": {
        "id": "K11r127NC6xV",
        "colab_type": "text"
      },
      "source": [
        "Here, we can select which of the output classes we wish to train on "
      ]
    },
    {
      "cell_type": "code",
      "metadata": {
        "id": "rS2YyubgrXnR",
        "colab_type": "code",
        "colab": {}
      },
      "source": [
        "output_class = 1\n",
        "Ttrain = Tbatch[:, output_class]\n",
        "Ttest = Tbatch_test[:, output_class]"
      ],
      "execution_count": 0,
      "outputs": []
    },
    {
      "cell_type": "code",
      "metadata": {
        "id": "9wTnrLKFrV4b",
        "colab_type": "code",
        "outputId": "ebe4ba4b-8402-49e2-abe1-49163f3dedaa",
        "colab": {
          "base_uri": "https://localhost:8080/",
          "height": 34
        }
      },
      "source": [
        "n_outputs = len(np.unique(Ttrain))\n",
        "n_outputs"
      ],
      "execution_count": 0,
      "outputs": [
        {
          "output_type": "execute_result",
          "data": {
            "text/plain": [
              "9"
            ]
          },
          "metadata": {
            "tags": []
          },
          "execution_count": 20
        }
      ]
    },
    {
      "cell_type": "markdown",
      "metadata": {
        "id": "HFGjwi8VUBUg",
        "colab_type": "text"
      },
      "source": [
        "Change to the channels first format, which is what is expected by pytorch"
      ]
    },
    {
      "cell_type": "code",
      "metadata": {
        "id": "xvI08a9Lraib",
        "colab_type": "code",
        "colab": {}
      },
      "source": [
        "Xbatch = np.rollaxis(Xbatch, 3, 1)\n",
        "Xbatch_test = np.rollaxis(Xbatch_test, 3, 1)"
      ],
      "execution_count": 0,
      "outputs": []
    },
    {
      "cell_type": "code",
      "metadata": {
        "id": "_ClDQ-qqrcYM",
        "colab_type": "code",
        "colab": {}
      },
      "source": [
        "input_size_in_pixels = 3"
      ],
      "execution_count": 0,
      "outputs": []
    },
    {
      "cell_type": "markdown",
      "metadata": {
        "id": "xxfn7M3MUO5P",
        "colab_type": "text"
      },
      "source": [
        "Image is 55 by 110. For convolution size, we can start with 7x7, then 5x5 down to 3x3"
      ]
    },
    {
      "cell_type": "code",
      "metadata": {
        "id": "fcI_YW60m9K2",
        "colab_type": "code",
        "colab": {}
      },
      "source": [
        "learning_rates = [0.01, 0.001, 0.0001, 0.00005, 0.00001]"
      ],
      "execution_count": 0,
      "outputs": []
    },
    {
      "cell_type": "code",
      "metadata": {
        "id": "gFXsxOpprfW8",
        "colab_type": "code",
        "colab": {}
      },
      "source": [
        "input_height = Xbatch.shape[2]\n",
        "input_width = Xbatch.shape[3]"
      ],
      "execution_count": 0,
      "outputs": []
    },
    {
      "cell_type": "code",
      "metadata": {
        "id": "KFtUpDbsreIp",
        "colab_type": "code",
        "colab": {}
      },
      "source": [
        "#n_hiddens_by_layer = [300, 400, 500, 800, 5000, 5000]\n",
        "n_hiddens_by_layer = [300, 400, 500, 800, 5000, 10000]\n",
        "batch_size = 200\n",
        "#learning_rate = 0.00005 #.01 nb, .001 pretty good, .0001 great\n",
        "n_iterations = 20\n",
        "n_conv_layers = 4\n",
        "\n",
        "window = [7, 5, 3, 3]\n",
        "stride = [2, 2, 2, 2]\n",
        "\n",
        "relu = True\n",
        "gpu = True"
      ],
      "execution_count": 0,
      "outputs": []
    },
    {
      "cell_type": "code",
      "metadata": {
        "id": "OAEwFN3ahgBE",
        "colab_type": "code",
        "colab": {}
      },
      "source": [
        "def percent_correct(actual, predicted):\n",
        "    return 100 * np.mean(actual == predicted)"
      ],
      "execution_count": 0,
      "outputs": []
    },
    {
      "cell_type": "code",
      "metadata": {
        "id": "aDm0DxlghDh_",
        "colab_type": "code",
        "outputId": "15c644fb-bb4d-4d37-be73-6045cee6b691",
        "colab": {
          "base_uri": "https://localhost:8080/",
          "height": 952
        }
      },
      "source": [
        "results = []\n",
        "for learning_rate in learning_rates:\n",
        "    nnet = nn.NeuralNetworkClassifier_Pytorch(input_size_in_pixels, \n",
        "                                          n_hiddens_by_layer, \n",
        "                                          n_outputs, \n",
        "                                          relu,gpu, \n",
        "                                          n_conv_layers, window, stride, input_height, input_width)\n",
        "    nnet.train(Xbatch, Ttrain.astype(np.uint8), Xbatch_test, Ttest.astype(np.uint8), n_iterations, batch_size, learning_rate)\n",
        "    classes, _, _ = nnet.use(Xbatch_test)\n",
        "    percent = percent_correct(Ttest.astype(np.uint8), classes)\n",
        "    results.append((percent, learning_rate))"
      ],
      "execution_count": 0,
      "outputs": [
        {
          "output_type": "stream",
          "text": [
            "NeuralNetworkClassifier_Pytorch created on cuda\n",
            "Iteration 2, cost = 1.9792, acc = 24.98\n",
            "Iteration 4, cost = 1.9415, acc = 25.41\n",
            "Iteration 6, cost = 1.9707, acc = 25.84\n",
            "Iteration 8, cost = 1.9390, acc = 25.48\n",
            "Iteration 10, cost = 1.9303, acc = 25.66\n",
            "Iteration 12, cost = 1.9364, acc = 25.60\n",
            "Iteration 14, cost = 1.9563, acc = 25.72\n",
            "Iteration 16, cost = 1.9389, acc = 25.72\n",
            "Iteration 18, cost = 1.9294, acc = 25.84\n",
            "Iteration 20, cost = 1.9234, acc = 25.66\n",
            "NeuralNetworkClassifier_Pytorch created on cuda\n",
            "Iteration 2, cost = 1.9843, acc = 24.98\n",
            "Iteration 4, cost = 1.9372, acc = 28.97\n",
            "Iteration 6, cost = 1.8016, acc = 34.25\n",
            "Iteration 8, cost = 1.6476, acc = 37.20\n",
            "Iteration 10, cost = 1.4886, acc = 38.92\n",
            "Iteration 12, cost = 1.3298, acc = 38.80\n",
            "Iteration 14, cost = 1.2610, acc = 36.89\n",
            "Iteration 16, cost = 1.0644, acc = 37.94\n",
            "Iteration 18, cost = 0.8705, acc = 38.18\n",
            "Iteration 20, cost = 0.7642, acc = 40.21\n",
            "NeuralNetworkClassifier_Pytorch created on cuda\n",
            "Iteration 2, cost = 1.7920, acc = 35.36\n",
            "Iteration 4, cost = 1.4320, acc = 41.99\n",
            "Iteration 6, cost = 0.9859, acc = 42.48\n",
            "Iteration 8, cost = 0.5709, acc = 42.85\n",
            "Iteration 10, cost = 0.3735, acc = 43.71\n",
            "Iteration 12, cost = 0.0787, acc = 44.69\n",
            "Iteration 14, cost = 0.0155, acc = 44.57\n",
            "Iteration 16, cost = 0.0015, acc = 45.67\n",
            "Iteration 18, cost = 0.0004, acc = 46.16\n",
            "Iteration 20, cost = 0.0007, acc = 45.73\n",
            "NeuralNetworkClassifier_Pytorch created on cuda\n",
            "Iteration 2, cost = 1.7591, acc = 38.00\n",
            "Iteration 4, cost = 1.3846, acc = 39.66\n",
            "Iteration 6, cost = 0.9141, acc = 42.36\n",
            "Iteration 8, cost = 0.5689, acc = 41.74\n",
            "Iteration 10, cost = 0.3263, acc = 41.31\n",
            "Iteration 12, cost = 0.0630, acc = 46.35\n",
            "Iteration 14, cost = 0.0210, acc = 45.55\n",
            "Iteration 16, cost = 0.0143, acc = 46.47\n",
            "Iteration 18, cost = 0.0059, acc = 47.21\n",
            "Iteration 20, cost = 0.0011, acc = 46.96\n",
            "NeuralNetworkClassifier_Pytorch created on cuda\n",
            "Iteration 2, cost = 1.7524, acc = 35.97\n",
            "Iteration 4, cost = 1.4410, acc = 41.19\n",
            "Iteration 6, cost = 1.1631, acc = 41.93\n",
            "Iteration 8, cost = 0.9305, acc = 44.20\n",
            "Iteration 10, cost = 0.5708, acc = 45.00\n",
            "Iteration 12, cost = 0.4686, acc = 42.66\n",
            "Iteration 14, cost = 0.3779, acc = 38.67\n",
            "Iteration 16, cost = 0.2868, acc = 40.39\n",
            "Iteration 18, cost = 0.1199, acc = 44.94\n",
            "Iteration 20, cost = 0.1113, acc = 45.73\n"
          ],
          "name": "stdout"
        }
      ]
    },
    {
      "cell_type": "code",
      "metadata": {
        "id": "cg-hX4qZ_ThV",
        "colab_type": "code",
        "outputId": "0fdc4c7a-179b-4eb1-bcde-0390dad3cce2",
        "colab": {
          "base_uri": "https://localhost:8080/",
          "height": 102
        }
      },
      "source": [
        "results"
      ],
      "execution_count": 0,
      "outputs": [
        {
          "output_type": "execute_result",
          "data": {
            "text/plain": [
              "[(25.659914057704114, 0.01),\n",
              " (40.208717004297114, 0.001),\n",
              " (45.73357888275015, 0.0001),\n",
              " (46.96132596685083, 5e-05),\n",
              " (45.73357888275015, 1e-05)]"
            ]
          },
          "metadata": {
            "tags": []
          },
          "execution_count": 28
        }
      ]
    },
    {
      "cell_type": "code",
      "metadata": {
        "id": "b5CAGsN2E5O2",
        "colab_type": "code",
        "colab": {}
      },
      "source": [
        "percents = [res[0] for res in results]\n",
        "rhos = [res[1] for res in results]"
      ],
      "execution_count": 0,
      "outputs": []
    },
    {
      "cell_type": "code",
      "metadata": {
        "id": "HoXULCqNEvtd",
        "colab_type": "code",
        "outputId": "2cb4c9e0-fbcc-4582-ee5c-608d55f5b95c",
        "colab": {
          "base_uri": "https://localhost:8080/",
          "height": 286
        }
      },
      "source": [
        "import matplotlib.pyplot as plt\n",
        "plt.plot(rhos, percents)"
      ],
      "execution_count": 0,
      "outputs": [
        {
          "output_type": "execute_result",
          "data": {
            "text/plain": [
              "[<matplotlib.lines.Line2D at 0x7f4cdc3cfef0>]"
            ]
          },
          "metadata": {
            "tags": []
          },
          "execution_count": 38
        },
        {
          "output_type": "display_data",
          "data": {
            "image/png": "[encoded data removed]",
            "text/plain": [
              "<Figure size 432x288 with 1 Axes>"
            ]
          },
          "metadata": {
            "tags": []
          }
        }
      ]
    },
    {
      "cell_type": "markdown",
      "metadata": {
        "id": "8m0hcaUoJSap",
        "colab_type": "text"
      },
      "source": [
        "Based on the graph above, the best learning rate is .00005. We'll train a network of that learning rate. "
      ]
    },
    {
      "cell_type": "code",
      "metadata": {
        "id": "9qgM-_R09foL",
        "colab_type": "code",
        "colab": {}
      },
      "source": [
        "#n_hiddens_by_layer = [300, 400, 500, 800, 5000, 5000]\n",
        "n_hiddens_by_layer = [300, 400, 500, 800, 5000, 10000]\n",
        "batch_size = 200\n",
        "learning_rate = 0.00005 #.01 nb, .001 pretty good, .0001 great\n",
        "n_iterations = 20\n",
        "n_conv_layers = 4\n",
        "\n",
        "window = [7, 5, 3, 3]\n",
        "stride = [2, 2, 2, 2]\n",
        "\n",
        "relu = True\n",
        "gpu = True"
      ],
      "execution_count": 0,
      "outputs": []
    },
    {
      "cell_type": "code",
      "metadata": {
        "id": "xav3ptl1rhmz",
        "colab_type": "code",
        "outputId": "0b66bd9b-1176-496e-e914-06e56df3efd6",
        "colab": {
          "base_uri": "https://localhost:8080/",
          "height": 34
        }
      },
      "source": [
        "nnet = nn.NeuralNetworkClassifier_Pytorch(input_size_in_pixels, \n",
        "                                          n_hiddens_by_layer, \n",
        "                                          n_outputs, \n",
        "                                          relu,gpu, \n",
        "                                          n_conv_layers, window, stride, input_height, input_width)"
      ],
      "execution_count": 0,
      "outputs": [
        {
          "output_type": "stream",
          "text": [
            "NeuralNetworkClassifier_Pytorch created on cuda\n"
          ],
          "name": "stdout"
        }
      ]
    },
    {
      "cell_type": "code",
      "metadata": {
        "id": "9_snvckGriOo",
        "colab_type": "code",
        "outputId": "5c3cbf6b-d571-4674-8c2f-9fbe1c290ca4",
        "colab": {
          "base_uri": "https://localhost:8080/",
          "height": 187
        }
      },
      "source": [
        "nnet.train(Xbatch, Ttrain.astype(np.uint8), Xbatch_test, Ttest.astype(np.uint8), n_iterations, batch_size, learning_rate)"
      ],
      "execution_count": 0,
      "outputs": [
        {
          "output_type": "stream",
          "text": [
            "Iteration 2, cost = 1.7586, acc = 36.89\n",
            "Iteration 4, cost = 1.3962, acc = 38.74\n",
            "Iteration 6, cost = 0.9828, acc = 41.87\n",
            "Iteration 8, cost = 0.5398, acc = 43.89\n",
            "Iteration 10, cost = 0.3217, acc = 38.00\n",
            "Iteration 12, cost = 0.1072, acc = 45.37\n",
            "Iteration 14, cost = 0.0133, acc = 46.41\n",
            "Iteration 16, cost = 0.0041, acc = 47.02\n",
            "Iteration 18, cost = 0.0013, acc = 46.90\n",
            "Iteration 20, cost = 0.0018, acc = 46.29\n"
          ],
          "name": "stdout"
        }
      ]
    },
    {
      "cell_type": "code",
      "metadata": {
        "id": "Cfj29uFchJR7",
        "colab_type": "code",
        "outputId": "ac6eec54-82c2-4380-ce2e-a36eef9e37b0",
        "colab": {
          "base_uri": "https://localhost:8080/",
          "height": 34
        }
      },
      "source": [
        "!git clone https://github.com/chrishaynes21/ocular-vehicular-patdown.git"
      ],
      "execution_count": 0,
      "outputs": [
        {
          "output_type": "stream",
          "text": [
            "fatal: destination path 'ocular-vehicular-patdown' already exists and is not an empty directory.\n"
          ],
          "name": "stdout"
        }
      ]
    },
    {
      "cell_type": "code",
      "metadata": {
        "id": "WnTwPE_sqKTu",
        "colab_type": "code",
        "colab": {}
      },
      "source": [
        "nnet = nnet.to(torch.device('cpu'))\n",
        "nnet.device = 'cpu'\n",
        "pkl.dump(nnet, open(\"body_style.nnet\", \"wb\"))"
      ],
      "execution_count": 0,
      "outputs": []
    },
    {
      "cell_type": "code",
      "metadata": {
        "id": "JNSo0IrAhl8q",
        "colab_type": "code",
        "outputId": "ad8fd5b7-9298-4112-b1f0-04c0c5fa9972",
        "colab": {
          "base_uri": "https://localhost:8080/",
          "height": 34
        }
      },
      "source": [
        "%cd ocular-vehicular-patdown/app/server/"
      ],
      "execution_count": 0,
      "outputs": [
        {
          "output_type": "stream",
          "text": [
            "/gdrive/My Drive/cs445/ocular-vehicular-patdown/app/server\n"
          ],
          "name": "stdout"
        }
      ]
    },
    {
      "cell_type": "code",
      "metadata": {
        "id": "hSjrretYg374",
        "colab_type": "code",
        "colab": {}
      },
      "source": [
        "from image_processing import image_to_numpy"
      ],
      "execution_count": 0,
      "outputs": []
    },
    {
      "cell_type": "code",
      "metadata": {
        "id": "6AT-7aEIiCGG",
        "colab_type": "code",
        "outputId": "48f7f1b8-60f6-4fc6-f887-ee5849a82ccc",
        "colab": {
          "base_uri": "https://localhost:8080/",
          "height": 34
        }
      },
      "source": [
        "% cd /gdrive/My\\ Drive/cs445/"
      ],
      "execution_count": 0,
      "outputs": [
        {
          "output_type": "stream",
          "text": [
            "/gdrive/My Drive/cs445\n"
          ],
          "name": "stdout"
        }
      ]
    },
    {
      "cell_type": "code",
      "metadata": {
        "id": "gzdXfwcIiVPi",
        "colab_type": "code",
        "outputId": "10d87d22-7c34-431e-c36c-3e26799354fd",
        "colab": {
          "base_uri": "https://localhost:8080/",
          "height": 68
        }
      },
      "source": [
        "ls"
      ],
      "execution_count": 0,
      "outputs": [
        {
          "output_type": "stream",
          "text": [
            "\u001b[0m\u001b[01;34mfinal\u001b[0m/                           IMG_20190512_180319__01.jpg  \u001b[01;34mpickles\u001b[0m/\n",
            "final_training_body_style.ipynb  neuralnetworks_pytorch.py    \u001b[01;34m__pycache__\u001b[0m/\n",
            "final_training_decade.ipynb      \u001b[01;34mocular-vehicular-patdown\u001b[0m/\n"
          ],
          "name": "stdout"
        }
      ]
    },
    {
      "cell_type": "code",
      "metadata": {
        "id": "TFR5_cUZiSlE",
        "colab_type": "code",
        "outputId": "23812f56-8418-4f37-cd6a-d423bb6144d1",
        "colab": {
          "base_uri": "https://localhost:8080/",
          "height": 236
        }
      },
      "source": [
        "bens_test_car = image_to_numpy(\"IMG_20190512_180319__01.jpg\", 55, 110)\n",
        "plt.imshow(bens_test_car)"
      ],
      "execution_count": 0,
      "outputs": [
        {
          "output_type": "execute_result",
          "data": {
            "text/plain": [
              "<matplotlib.image.AxesImage at 0x7f8fd05236a0>"
            ]
          },
          "metadata": {
            "tags": []
          },
          "execution_count": 38
        },
        {
          "output_type": "display_data",
          "data": {
            "image/png": "[encoded data removed]",
            "text/plain": [
              "<Figure size 432x288 with 1 Axes>"
            ]
          },
          "metadata": {
            "tags": []
          }
        }
      ]
    },
    {
      "cell_type": "code",
      "metadata": {
        "id": "1beMqOLalVeq",
        "colab_type": "code",
        "outputId": "74c38032-1f33-49a6-ad13-ef2c8513b8f1",
        "colab": {
          "base_uri": "https://localhost:8080/",
          "height": 34
        }
      },
      "source": [
        "bens_test_car = np.rollaxis(bens_test_car, -1, 0)\n",
        "bens_test_car = np.expand_dims(bens_test_car, axis = 0)\n",
        "bens_test_car.shape"
      ],
      "execution_count": 0,
      "outputs": [
        {
          "output_type": "execute_result",
          "data": {
            "text/plain": [
              "(1, 3, 55, 110)"
            ]
          },
          "metadata": {
            "tags": []
          },
          "execution_count": 39
        }
      ]
    },
    {
      "cell_type": "code",
      "metadata": {
        "id": "SYhwqo-mrzRr",
        "colab_type": "code",
        "outputId": "6a997105-3a9b-4c42-a6a6-8a48ce774452",
        "colab": {
          "base_uri": "https://localhost:8080/",
          "height": 136
        }
      },
      "source": [
        "nnet.use(bens_test_car)"
      ],
      "execution_count": 0,
      "outputs": [
        {
          "output_type": "execute_result",
          "data": {
            "text/plain": [
              "(array([5]),\n",
              " array([[1.3326278e-03, 5.9987081e-04, 1.4974232e-04, 7.4433337e-05,\n",
              "         4.2210540e-05, 9.1041946e-01, 6.8613581e-02, 2.6202065e-06,\n",
              "         1.8765451e-02]], dtype=float32),\n",
              " array([[ 0.6054862 , -0.19270754, -1.5805058 , -2.279518  , -2.846752  ,\n",
              "          7.132239  ,  4.546824  , -5.6261687 ,  3.250351  ]],\n",
              "       dtype=float32))"
            ]
          },
          "metadata": {
            "tags": []
          },
          "execution_count": 40
        }
      ]
    },
    {
      "cell_type": "code",
      "metadata": {
        "id": "7Ate-oHBggIK",
        "colab_type": "code",
        "outputId": "63a54342-eda2-4428-8caa-b0dfefbc0099",
        "colab": {
          "base_uri": "https://localhost:8080/",
          "height": 34
        }
      },
      "source": [
        "style_names[5]"
      ],
      "execution_count": 0,
      "outputs": [
        {
          "output_type": "execute_result",
          "data": {
            "text/plain": [
              "'Sedan'"
            ]
          },
          "metadata": {
            "tags": []
          },
          "execution_count": 41
        }
      ]
    },
    {
      "cell_type": "code",
      "metadata": {
        "id": "5c028z2omSMV",
        "colab_type": "code",
        "colab": {}
      },
      "source": [
        ""
      ],
      "execution_count": 0,
      "outputs": []
    }
  ]
}
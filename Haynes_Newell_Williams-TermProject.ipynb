{
 "cells": [
  {
   "cell_type": "markdown",
   "metadata": {},
   "source": [
    "# Machine Learning Project to Predict Vehicle Decade, Body Style, and Make"
   ]
  },
  {
   "cell_type": "markdown",
   "metadata": {},
   "source": [
    "*by Chris Haynes, Ben Newell, and Ryan Williams 2019*"
   ]
  },
  {
   "cell_type": "markdown",
   "metadata": {},
   "source": [
    "## Introduction"
   ]
  },
  {
   "cell_type": "markdown",
   "metadata": {},
   "source": [
    "We decided it would be interesting to try and predict a vehicle's decade, the body style, and the make of the cars passed in from an image. To add to the ease of using the neural network and to satisfy an honors option, we also made a web application that allows the user to load a .JPG or .JPEG image of a car and a selection of a classification type to make it easier to use the neural networks. For the web application, we built the application in React.js, and hosted a server in Python Flask with a RESTful API to upload images and classify that image using REST principles. For the neural networks, the hardest part was working with the data. We had to select the right image size, aspect ratios, cropping to the body of the car, standardization of the data, and batch sizes. Choosing the right parameters for the neural networks helped as well."
   ]
  },
  {
   "cell_type": "markdown",
   "metadata": {},
   "source": [
    "## Methods"
   ]
  },
  {
   "cell_type": "markdown",
   "metadata": {},
   "source": [
    "### Web Application\n",
    "Writing the web application was slightly challenging, especially passing the image from the website to the server. The first thing that I did was begin by running `npx create-react-app` to initialize a simple React web application. This is very basic and essentially handles the creation of files such as `index.js` and `App.js` with some simple React to display a generalized React splash page. It also handles the creation of the `node_modules` directory, which has `react-scripts` that can be run for different lifecycles of the application. The final thing is the `package.json`, which contains all packages that are necassary to run the application. Running `npm install` will install all the correct dependencies for the project without the need to download them one by one, as would be necassary with a `pip install`. This also references the `react-strap` node module and will run the scripts for certain commands. The most common command during development is `npm start` which starts the development server. The start script is not an optimized build, but is nice to use because it will hot load when a change in the React code occurs. Therefore, this command is usually only run once, and when tinkering with the website it prevents the need to make a change and restart the development server. On the actually Python server, we decided to use Python Flask, which is a web framework, but worked just fine providing the RESTful API to the React application. All of the server for the API is contained in `server.py`.\n",
    "\n",
    "To style the web application, we decided to use the node module called `react-strap`, which also means we needed to install `bootstrap` as well. Bootstrap is common library used for web applications and it's principles are widely known for user interfaces. It has layouts based on a theory of 12, that the layouts should be split into categories, so adding three columns could mean their widths would equally be 4 for a layout, or one large one at 6 and the other two at 3, etc. Not only does it handle the layouts well, but it also has great styling, so we did not need to spend much time working on CSS. It has a React class called `Jumbotron` that makes a nice page header, and a `Navbar` class that works for navigation. If there were more pages than just the one we used, these links would have been available in the nav bar of our web application.\n",
    "\n",
    "The class were we made the most happen was in `Loader.js`. This class handled the layout below the page header, and included all of the buttons and the image upload. We used some simple React principles to make this class work. We'll start with the buttons. To highlight the button that has been selected, we stored the state of the selected button in the Loader component. If a button was the `activeButton`, they would highlight from a `secondary` color to a `primary` color. We used one function to change the state of `activeButton` upon a click of the button. If a user has pressed the Submit button to actually submit the image to classify, the button will become disabled, since the type of the classification has already been chosen. \n",
    "\n",
    "The part that took the longest was getting the file to upload. We did this first by determining if the user was still `loading` an image and had not yet submitted an image. By default, the user starts with `loading` set to `true`. The nice thing is that `reactstrap` has a `Form` class with an `Input`. In the `Input` component, one can select the `type` of the upload, which is set to file. We do validation that it is an image on the server, so no validation was necassary on the client side. Using the `onChange` attribute, we pass the event to my `fileChanged` function. We use the `event.target.files[0]` to store the first file submitted and we display it on the page in a small preview. We achieved the display by using a conditional to display the image if the file was present. If it is not an image, it displays alternative text, but the file will not be accepted upon submitting the file. The magic all happens in `submitImage`, and we followed the blog post from [Ashish Pandey](https://medium.com/@ashishpandey_1612/file-upload-with-react-flask-e115e6f2bf99) to handle submission (Pandey). The submit button cannot be clicked until a file has been loaded, but `onClick` calls `submitImage`. First, it starts by creating `FormData` to pass to the server, and appends the file to that object. If a classification is not chosen, it will trigger an alert that a classification must be chosen. Otherwise, it `fetch` call to the server, which runs on `http://127.0.0.1:5000`. It calls the `upload` using the HTTP verb of `POST` to post the file to the server and appends the `FormData` object as the body of the call. On the server, we check to see if it is a legal file, and we throw an error if it is not legal. If it is legal, namely a JPEG or JPG image, we make a directory on the server called `uploads`. It saves the image to this directory and returns a JSON object containing the name of the file on the server. On the front end, we use the `.then` function to await the response from the server since a fetch is asynchronous and returns a promise. We check if there is an error and if no error is thrown, it will use the file name and call `getClassification` with the file name returned from the server. This function uses another `fetch` and a `GET` request to the `classification` API. It does this using a query string with the file name and the selected classification type. On the server, we get both the file name and classification type from the query string, and uses them to call the correct neural network and get the classification. We call the correct pickled neural network object, and call the `use` function to get the classification. We call the `tbd` function to get the classification's name. This is then returned back to the web application and displayed on the web page in place of the file upload, with the image still displayed on the right. The final button one will see is a reset button, that allows for the image to be kept and a different classification displayed, or a new file to be uploaded and a classification attempted.\n",
    "\n",
    "The challenges we ran into was first of all getting the image to the server. We first tried using JSON objects to pass to the server, but getting the file was impossible as far as we could tell from debugging the request object. Using `FormData`proved much more successful. Another problem that we ran into was a warning that we were not using `CORS` requests between the server and client. By adding a `CORS` object to surround the server app, we were able to do cross origin requests without errors. We had to see how to parse the returned status that came back from the methods, and doing different statuses, but it proved easier to return JSON strings to front end to use. The challenge with the neural network objects is that they were trained on the GPU. We got several errors related to the fact that it was trained on the GPU rather than CPU. Changing the `map_location` didn't work for `torch.load`, so on CoLab, we call `nnet.to(torch.device('cpu')` and then set `nnet.device = 'cpu`. This allowed for the pickled object to be loaded onto the CPU the server resides on, and to use that network to classify the images."
   ]
  },
  {
   "cell_type": "markdown",
   "metadata": {},
   "source": [
    "## Results"
   ]
  },
  {
   "cell_type": "markdown",
   "metadata": {},
   "source": [
    "Show all results.  Intermediate results might be shown in above Methods section.  Plots, tables, whatever."
   ]
  },
  {
   "cell_type": "markdown",
   "metadata": {},
   "source": [
    "## Conclusions"
   ]
  },
  {
   "cell_type": "markdown",
   "metadata": {},
   "source": [
    "What I learned.  What was difficult.  Changes I had to make to timeline."
   ]
  },
  {
   "cell_type": "markdown",
   "metadata": {},
   "source": [
    "### References"
   ]
  },
  {
   "cell_type": "markdown",
   "metadata": {},
   "source": [
    "* [A. Pandey], “File Upload with React & Flask,” Ashish Pandey, 06-Jul-2018. https://medium.com/@ashishpandey_1612/file-upload-with-react-flask-e115e6f2bf99.\n"
   ]
  },
  {
   "cell_type": "markdown",
   "metadata": {
    "collapsed": true
   },
   "source": [
    "Your report for a single person team should contain approximately 2,000 to 5,000 words, in markdown cells.  You can count words by running the following python code in your report directory.  Projects with two people, for example, should contain 4,000 to 8,000 words."
   ]
  },
  {
   "cell_type": "code",
   "execution_count": 7,
   "metadata": {},
   "outputs": [
    {
     "name": "stdout",
     "output_type": "stream",
     "text": [
      "Word count for file Haynes_Newell_Williams-TermProject.ipynb is 1350\n"
     ]
    }
   ],
   "source": [
    "import io\n",
    "from nbformat import current\n",
    "import glob\n",
    "nbfile = glob.glob('Haynes_Newell_Williams-TermProject.ipynb')\n",
    "if len(nbfile) > 1:\n",
    "    print('More than one ipynb file. Using the first one.  nbfile=', nbfile)\n",
    "with io.open(nbfile[0], 'r', encoding='utf-8') as f:\n",
    "    nb = current.read(f, 'json')\n",
    "word_count = 0\n",
    "for cell in nb.worksheets[0].cells:\n",
    "    if cell.cell_type == \"markdown\":\n",
    "        word_count += len(cell['source'].replace('#', '').lstrip().split(' '))\n",
    "print('Word count for file', nbfile[0], 'is', word_count)"
   ]
  }
 ],
 "metadata": {
  "kernelspec": {
   "display_name": "Python 3",
   "language": "python",
   "name": "python3"
  },
  "language_info": {
   "codemirror_mode": {
    "name": "ipython",
    "version": 3
   },
   "file_extension": ".py",
   "mimetype": "text/x-python",
   "name": "python",
   "nbconvert_exporter": "python",
   "pygments_lexer": "ipython3",
   "version": "3.6.5"
  }
 },
 "nbformat": 4,
 "nbformat_minor": 1
}
